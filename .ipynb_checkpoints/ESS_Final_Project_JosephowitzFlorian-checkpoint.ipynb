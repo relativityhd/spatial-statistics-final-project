{
 "cells": [
  {
   "cell_type": "markdown",
   "metadata": {},
   "source": [
    "_Evironmental Statitistics and Models_"
   ]
  },
  {
   "cell_type": "markdown",
   "metadata": {},
   "source": [
    "## __Final Project__"
   ]
  },
  {
   "cell_type": "code",
   "execution_count": null,
   "metadata": {},
   "outputs": [],
   "source": [
    "import numpy as np\n",
    "import pandas as pd\n",
    "import geopandas as gpd\n",
    "\n",
    "from scipy.optimize import curve_fit\n",
    "#2\n",
    "# Plotting\n",
    "import pydeck as pdk\n",
    "import matplotlib.pyplot as plt\n",
    "\n",
    "\n",
    "# # Raster\n",
    "# import rasterio as rio\n",
    "\n",
    "# # Spatitial Stats\n",
    "# import pointpats\n",
    "\n",
    "# # Plane Fitting\n",
    "# from scipy.optimize import curve_fit \n"
   ]
  },
  {
   "cell_type": "code",
   "execution_count": null,
   "metadata": {},
   "outputs": [],
   "source": [
    "import seaborn as sns\n",
    "import matplotlib as mpl\n",
    "\n",
    "mpl.rcParams.update(mpl.rcParamsDefault)\n",
    "\n",
    "# Set Seaborn color palette\n",
    "cmap = 'Set2'\n",
    "sns.set_palette(cmap)\n",
    "\n",
    "# Update Matplotlib rcParams\n",
    "mpl.rcParams.update({\n",
    "#    'font.family': 'Consolas',  # Font family for all text\n",
    "    'figure.dpi': 200,  # High resolution for figures\n",
    "    \n",
    "    # Axes settings\n",
    "    'axes.titlesize': 12,  # Font size for the axes title\n",
    "    'axes.titleweight': 'normal',  # Weight for the axes title\n",
    "    'axes.labelsize': 10,  # Font size for the axes labels\n",
    "    \n",
    "    # Tick settings\n",
    "    'xtick.direction': 'in',  # Ticks pointing inwards\n",
    "    'ytick.direction': 'in',  # Ticks pointing inwards\n",
    "    'xtick.minor.visible': True,  # Show minor ticks on x-axis\n",
    "    'ytick.minor.visible': True,  # Show minor ticks on y-axis\n",
    "\n",
    "    # Grid settings\n",
    "    'axes.grid': True,  # Enable grid by default\n",
    "    'axes.grid.which': 'both',  # Show both major and minor grids\n",
    "    'grid.linestyle': ':',  # Dotted grid lines\n",
    "    'grid.alpha': 0.3,  # Transparency for major grid lines\n",
    "    'grid.linewidth': 0.6,  # Line width for major grid lines\n",
    "\n",
    "})\n",
    "\n",
    "\n",
    "plt.rcParams['ytick.right'] = plt.rcParams['xtick.top'] = True\n",
    "plt.rcParams['ytick.left'] = plt.rcParams['ytick.labelleft'] = True"
   ]
  },
  {
   "cell_type": "markdown",
   "metadata": {},
   "source": [
    "__Load Data and prepare__\n"
   ]
  },
  {
   "cell_type": "code",
   "execution_count": null,
   "metadata": {},
   "outputs": [],
   "source": [
    "# Read table Data\n",
    "fp_table = r\"../data/NationalSurveyData.csv\"\n",
    "d = pd.read_csv(fp_table,sep=\",\",skipinitialspace=True,skiprows=(0,1,2,3,5,6),)\n",
    "\n",
    "# Read Borders\n",
    "shp = gpd.read_file(r\"../data/borders.shp\")\n"
   ]
  },
  {
   "cell_type": "code",
   "execution_count": null,
   "metadata": {},
   "outputs": [],
   "source": [
    "# Achtung Vereinfachung\n",
    "d[\"As\"] = d['As'].str.replace(r\"^<\", \"\", regex=True).astype(float)\n"
   ]
  },
  {
   "cell_type": "code",
   "execution_count": null,
   "metadata": {},
   "outputs": [],
   "source": [
    "# Create a GeoDataFrame from the DataFrame and lat/lon lists\n",
    "dg = gpd.GeoDataFrame(d, geometry=gpd.points_from_xy(d[\"LONG_DEG\"], d[\"LAT_DEG\"]))\n",
    "\n",
    "# Set the coordinate reference system (CRS) to WGS84 (EPSG:4326)\n",
    "dg.set_crs(epsg=4326, inplace=True)\n",
    "\n",
    "# Display the GeoDataFrame\n",
    "dg.head()"
   ]
  },
  {
   "cell_type": "code",
   "execution_count": null,
   "metadata": {},
   "outputs": [],
   "source": [
    "dg.columns"
   ]
  },
  {
   "cell_type": "code",
   "execution_count": null,
   "metadata": {},
   "outputs": [],
   "source": [
    "fig, ax = plt.subplots(figsize=(10, 8))\n",
    "gdf_plot = dg.plot(column='As', cmap='viridis', vmax=np.nanpercentile(dg[\"As\"], 90), vmin=np.nanpercentile(dg[\"As\"], 5), markersize=1, ax=ax)\n",
    "plt.title('Arsen Concentration in Bangladesh')\n",
    "shp.plot(ax=gdf_plot, edgecolor='black', facecolor='none')\n",
    "fig.colorbar(gdf_plot.collections[0], ax=gdf_plot,orientation=\"vertical\",shrink=1,aspect=70,label=\"As Concentration\")\n",
    "ax.set_xlabel('Longitude',loc=\"right\")\n",
    "ax.set_ylabel('Latitude',loc=\"top\")\n",
    "plt.tight_layout()\n",
    "# ax.set_xticklabels([f'{tick}°' for tick in ax.get_xticks()])\n",
    "# ax.set_yticklabels([f'{tick}°' for tick in ax.get_yticks()])\n",
    "plt.show()"
   ]
  },
  {
   "cell_type": "code",
   "execution_count": null,
   "metadata": {},
   "outputs": [],
   "source": [
    "gj = shp.to_json()\n",
    "\n",
    "# Create a Pydeck GeoJsonLayer\n",
    "poly= pdk.Layer(\n",
    "        \"GeoJsonLayer\",\n",
    "        data=shp,\n",
    "        get_fill_color=[100,100,100,0],\n",
    "        get_line_color=[120,120,120,255],  # Border color\n",
    "        line_width_min_pixels=1.5\n",
    "    )\n",
    "\n",
    "# Define a layer to display the points\n",
    "layer = pdk.Layer(\n",
    "    'ScatterplotLayer',\n",
    "    data=dg,\n",
    "    get_position='[LONG_DEG, LAT_DEG]',\n",
    "    get_fill_color='[0 + As * 2, 30 + As * 10, 180-As*2, 255]',\n",
    "    get_radius=1400,\n",
    "    pickable=True\n",
    ")\n",
    "\n",
    "# Set the viewport location\n",
    "view_state = pdk.ViewState(\n",
    "    latitude=dg['LAT_DEG'].mean(),\n",
    "    longitude=dg['LONG_DEG'].mean(),\n",
    "    zoom=7,\n",
    "    pitch=0\n",
    ")\n",
    "\n",
    "# Render the deck.gl map with a light theme\n",
    "r = pdk.Deck(\n",
    "    layers=[poly,layer],\n",
    "    initial_view_state=view_state,\n",
    "    map_provider=None,\n",
    "    height=500,\n",
    "    tooltip={\"text\": \"{As}\"},\n",
    "    map_style=\"light_no_labels\" \n",
    ")\n",
    "r.to_html('ScatterplotLayer.html',iframe_height=800)"
   ]
  },
  {
   "cell_type": "markdown",
   "metadata": {},
   "source": [
    "### __Variagramm__"
   ]
  },
  {
   "cell_type": "code",
   "execution_count": null,
   "metadata": {},
   "outputs": [],
   "source": [
    "# Ellipsoidal Coordinates to Metric CRS\n",
    "main_crs = \"EPSG:9678\" # https://epsg.io/9678\n",
    "dg = dg.to_crs(main_crs)\n",
    "shp = shp.to_crs(main_crs)\n"
   ]
  },
  {
   "cell_type": "code",
   "execution_count": null,
   "metadata": {},
   "outputs": [],
   "source": [
    "east = dg.geometry.x\n",
    "north = dg.geometry.y\n",
    "\n",
    "# Position Vector of Observations\n",
    "x_o = dg.get_coordinates().values # [East , North] # m\n",
    "\n",
    "n_points = len(east)\n",
    "\n",
    "print(f\"n points: {n_points} observations\")"
   ]
  },
  {
   "cell_type": "code",
   "execution_count": null,
   "metadata": {},
   "outputs": [],
   "source": [
    "x_o"
   ]
  },
  {
   "cell_type": "code",
   "execution_count": null,
   "metadata": {},
   "outputs": [],
   "source": [
    "east"
   ]
  },
  {
   "cell_type": "code",
   "execution_count": null,
   "metadata": {},
   "outputs": [],
   "source": [
    "plt.scatter(east,north,s=3)\n",
    "plt.axis(\"equal\")\n",
    "plt.show()"
   ]
  },
  {
   "cell_type": "code",
   "execution_count": null,
   "metadata": {},
   "outputs": [],
   "source": [
    "## Point to Point Distances, for all points\n",
    "\n",
    "dists = np.linalg.norm(x_o[:,np.newaxis] - x_o[np.newaxis,:],axis=-1)\n",
    "\n",
    "# Distanzan sind in beide Richtungen deswegen hälftze löschen\n",
    "dists_half = np.triu(dists) # Diagonale auch null das nicht abstand mit sich selber berücksichtigt wird"
   ]
  },
  {
   "cell_type": "code",
   "execution_count": null,
   "metadata": {},
   "outputs": [],
   "source": [
    "im = plt.imshow(dists_half,origin=\"upper\",cmap=\"Greys_r\")\n",
    "plt.colorbar(im)\n",
    "plt.show()\n",
    "\n",
    "\n",
    "re = dists_half < 400000\n",
    "\n",
    "im = plt.imshow(re,origin=\"upper\",cmap=\"Greys_r\")\n",
    "plt.colorbar(im)\n",
    "plt.show()\n"
   ]
  },
  {
   "cell_type": "code",
   "execution_count": null,
   "metadata": {},
   "outputs": [],
   "source": [
    "## Histogram for Distances\n",
    "n_bins = 60\n",
    "\n",
    "select_max_dist = 90 # %\n",
    "\n",
    "\n",
    "# Histogramm\n",
    "hist, bin_edges = np.histogram(dists,n_bins,range=(0,np.percentile(dists,select_max_dist)))\n",
    "\n",
    "# Mean Lag h in each class\n",
    "bin_centers = (bin_edges[1:]+bin_edges[:-1])/2\n",
    "\n",
    "\n",
    "## Z Values\n",
    "z = d[\"As\"].values\n",
    "z_diff = z[:,np.newaxis] - z[np.newaxis,:]\n",
    "z_diff_half = np.triu(z_diff) # Clean that not double distance for every pair\n",
    "\n",
    "\n",
    "print(\"-------------\")\n",
    "print(\"Max used distance:\",np.percentile(dists,80)/1000,\"km (\"+str(select_max_dist)+\" %)\")\n",
    "print(\"-------------\")\n"
   ]
  },
  {
   "cell_type": "code",
   "execution_count": null,
   "metadata": {},
   "outputs": [],
   "source": [
    "plt.scatter(dists.flatten()[::10],np.abs(z_diff_half.flatten()[::10]),s=1,c=\"k\",alpha=0.2)\n",
    "plt.xlabel(\"Dist between points\")\n",
    "plt.ylabel(\"Z value difference between points\")\n",
    "\n",
    "plt.show()"
   ]
  },
  {
   "cell_type": "markdown",
   "metadata": {},
   "source": [
    "The Semivarinace is defined as followed:\n",
    "\n",
    "$$\n",
    "γ(h)=\\frac{1}{2N(h)} \\sum_{i=1}^{N}(Z(x_i+h)−Z(x_i))^2\n",
    "$$\n",
    "\n",
    "- where $h$ is the distance between points in the lag class\n",
    "- $N(h)$ is the number of points with the distance h (Number of points per lag class).\n",
    "- $x_i$ is the position of the i-th point and $Z$ is the attribute value at the position $x_i$\n",
    "\n",
    "_(Benndorf, 2023)_"
   ]
  },
  {
   "cell_type": "markdown",
   "metadata": {},
   "source": [
    "Benndorf, Jörg. Angewandte Geodatenanalyse und -Modellierung. 2023. Springer Vieweg Wiesbaden. 978-3-658-39981-8. https://doi.org/10.1007/978-3-658-39981-8"
   ]
  },
  {
   "cell_type": "code",
   "execution_count": null,
   "metadata": {},
   "outputs": [],
   "source": [
    "## Semivariance\n",
    "semi_var = np.zeros(len(hist)) * np.nan\n",
    "\n",
    "# Iterate over all lag classes\n",
    "for i in range(len(hist)):\n",
    "    \n",
    "    # Selecting all Z values in the actual Lag Class (h or dist-class)\n",
    "    diff = z_diff[(dists >= bin_edges[i]) & (dists < bin_edges[i+1])]\n",
    "\n",
    "    # plt.figure()\n",
    "    # im = plt.imshow((dists >= bin_edges[i]) & (dists < bin_edges[i+1]),origin=\"lower\",cmap=\"Greys_r\")\n",
    "    # plt.colorbar(im)\n",
    "    # plt.show()\n",
    "\n",
    "    # Count Distances in class\n",
    "    n = np.sum((dists >= bin_edges[i]) & (dists < bin_edges[i+1]) ) # number of distances in class i\n",
    "    \n",
    "    # print(n)\n",
    "    # print(np.sum( diff**2 ))\n",
    "    # print(1 / (n*2) * np.sum( diff**2 ))\n",
    "    # print(\"---\")\n",
    "\n",
    "    # Semivariance for Class i\n",
    "    semi_var[i] = 1 / (n*2) * np.sum( diff**2 )"
   ]
  },
  {
   "cell_type": "code",
   "execution_count": null,
   "metadata": {},
   "outputs": [],
   "source": [
    "plt.plot(bin_centers,semi_var,marker='o',ms=3,c=\"k\")\n",
    "plt.title(\"Semivariogram\")\n",
    "plt.show()"
   ]
  },
  {
   "cell_type": "markdown",
   "metadata": {},
   "source": [
    "### __Theoretical Variogramm model Fitting__"
   ]
  },
  {
   "cell_type": "code",
   "execution_count": null,
   "metadata": {},
   "outputs": [],
   "source": [
    "# https://scikit-gstat.readthedocs.io/en/latest/technical/fitting.html\n"
   ]
  },
  {
   "attachments": {
    "image.png": {
     "image/png": "[encoded data removed]"
    }
   },
   "cell_type": "markdown",
   "metadata": {},
   "source": [
    "![image.png](attachment:image.png)"
   ]
  },
  {
   "cell_type": "markdown",
   "metadata": {},
   "source": [
    "The formula for the spherical variogram model is given by:\n",
    "\n",
    "$$\n",
    "\\gamma(h) = \n",
    "\\begin{cases} \n",
    "C_0 + C \\left[ \\frac{3h}{2a} - \\frac{1}{2} \\left( \\frac{h}{a} \\right)^3 \\right] & \\text{if } 0 \\leq h \\leq a \\\\\n",
    "C_0 + C & \\text{if } h > a \n",
    "\\end{cases}\n",
    "$$\n",
    "\n",
    "where:\n",
    "- $h$ is the lag distance,\n",
    "- $C_0$ is the nugget,\n",
    "- $C$ is the sill minus the nugget,\n",
    "- $a$ is the range.\n",
    "\n",
    "Modified formula to include $C_0$ fo $h=0$"
   ]
  },
  {
   "cell_type": "code",
   "execution_count": null,
   "metadata": {},
   "outputs": [],
   "source": [
    "semi_var.shape"
   ]
  },
  {
   "cell_type": "code",
   "execution_count": null,
   "metadata": {},
   "outputs": [],
   "source": [
    "bin_centers.shape"
   ]
  },
  {
   "cell_type": "code",
   "execution_count": null,
   "metadata": {},
   "outputs": [],
   "source": [
    "def spherical(h, c0, c, a):\n",
    "    semivar = np.zeros_like(h)\n",
    "    mask1 = (h >=0 ) & (h <= a)\n",
    "    mask2 = h > a\n",
    "    semivar[mask1] = c0 + c * (3 * h[mask1] / (2 * a) - 0.5 * (h[mask1] / a) ** 3)\n",
    "    semivar[mask2] = c0 + c\n",
    "    return semivar\n",
    "\n",
    "\n",
    "def spherical_cov(h, c0, c, a):\n",
    "    covariance = np.zeros_like(h)\n",
    "    mask1 = (h >=0 ) & (h <= a)\n",
    "    # mask2 = h > a\n",
    "    covariance[mask1] = c - c * (3 * h[mask1] / (2 * a) - 0.5 * (h[mask1] / a) ** 3)\n",
    "    # covariance[mask2] = 0 # already Zero\n",
    "    return covariance\n",
    "\n",
    "\n",
    "x = bin_centers[1:] # Drop first element to remove peak/disturbance\n",
    "y = semi_var[1:]\n",
    "# TODO automate the p0 value selction from expireminetal variogram\n",
    "# TODO hinzufügen von bounds wie in https://scikit-gstat.readthedocs.io/en/latest/technical/fitting.html\n",
    "cof_u, cov = curve_fit(spherical, x, y,p0 = [10000,15000,100000] )\n"
   ]
  },
  {
   "cell_type": "code",
   "execution_count": null,
   "metadata": {},
   "outputs": [],
   "source": [
    "cof_u"
   ]
  },
  {
   "cell_type": "code",
   "execution_count": null,
   "metadata": {},
   "outputs": [],
   "source": [
    "np.var(z)"
   ]
  },
  {
   "cell_type": "code",
   "execution_count": null,
   "metadata": {},
   "outputs": [],
   "source": [
    "\"\"\"def cov(h,c0,c,a):\n",
    "    return c0 + c - spherical(h,c0,c,a)\n",
    "    \"\"\""
   ]
  },
  {
   "cell_type": "code",
   "execution_count": null,
   "metadata": {},
   "outputs": [],
   "source": [
    "h_theo = np.linspace(0,bin_edges.max(),100)\n",
    "semivar_theo = spherical(h_theo,cof_u[0],cof_u[1],cof_u[2])\n",
    "\n",
    "cov = spherical_cov(h_theo,cof_u[0],cof_u[1],cof_u[2])"
   ]
  },
  {
   "cell_type": "code",
   "execution_count": null,
   "metadata": {},
   "outputs": [],
   "source": [
    "plt.plot(bin_centers[1:], semi_var[1:], marker='o', ms=3, c=\"k\", label='Empirical Semivariance')\n",
    "plt.plot(h_theo, semivar_theo, label='Theoretical Semivariance')\n",
    "plt.xlabel('Lag Distance')\n",
    "plt.ylabel('Semivariance')\n",
    "plt.title('Empirical and Theoretical Semivariance')\n",
    "plt.legend()\n",
    "plt.show()"
   ]
  },
  {
   "cell_type": "code",
   "execution_count": null,
   "metadata": {},
   "outputs": [],
   "source": [
    "plt.plot(h_theo, semivar_theo, label='Theoretical Semivariance')\n",
    "plt.plot(h_theo, cov, label='Covariance')\n",
    "plt.xlabel('Lag Distance')\n",
    "plt.ylabel('Value')\n",
    "plt.title('Theoretical Semivariance and Covariance')\n",
    "plt.legend()\n",
    "plt.show()"
   ]
  },
  {
   "cell_type": "markdown",
   "metadata": {},
   "source": [
    "### __Kriging__"
   ]
  },
  {
   "cell_type": "code",
   "execution_count": null,
   "metadata": {},
   "outputs": [],
   "source": [
    "# Erstmal simple Kriging\n",
    "# Dann Indikator Kriging was gefragt ist"
   ]
  },
  {
   "cell_type": "markdown",
   "metadata": {},
   "source": [
    "__Covariance and Interpolations weights__\n",
    "\n",
    "The Covariance is derived from the Semmivariance:\n",
    "\n",
    "$$\n",
    "Cov(h) = \n",
    "\\begin{cases} \n",
    "C - C \\left[ \\frac{3h}{2a} - \\frac{1}{2} \\left( \\frac{h}{a} \\right)^3 \\right] & \\text{if } 0 \\leq h \\leq a \\\\\n",
    "0 & \\text{if } h > a \n",
    "\\end{cases}\n",
    "$$\n"
   ]
  },
  {
   "cell_type": "markdown",
   "metadata": {},
   "source": [
    "The Weigths for the Kriging are Calulated via the Covariance for each interpolation point:\n",
    "\n",
    "$$\n",
    "\\lambda = \\mathbf{C^{-1} \\cdot c_0}\n",
    "$$\n",
    "\n",
    "the matrizes looks like that:\n",
    "\n",
    "\n",
    "\n",
    "$$\n",
    "\\lambda =\n",
    "\\begin{bmatrix}\n",
    "    \\lambda_1 \\\\\n",
    "    \\lambda_2 \\\\\n",
    "    \\vdots \\\\\n",
    "    \\lambda_2\n",
    "\\end{bmatrix}, \\quad\n",
    "\\mathbf{C} =\n",
    "\\begin{bmatrix}\n",
    "    \\text{Cov}[x_1, x_1] & \\text{Cov}[x_1, x_2] & \\cdots & \\text{Cov}[x_1, x_n] \\\\\n",
    "    \\text{Cov}[x_2, x_1] & \\text{Cov}[x_2, x_2] & \\cdots & \\text{Cov}[x_2, x_n] \\\\\n",
    "    \\vdots & \\vdots & \\ddots & \\vdots \\\\\n",
    "    \\text{Cov}[x_n, x_1] & \\text{Cov}[x_n, x_2] & \\cdots & \\text{Cov}[x_n, x_n]\n",
    "\\end{bmatrix}, \\quad\n",
    "\\mathbf{c}_0 =\n",
    "\\begin{bmatrix}\n",
    "    \\text{Cov}(x_1, x_0) \\\\\n",
    "    \\text{Cov}(x_2, x_0) \\\\\n",
    "    \\vdots \\\\\n",
    "    \\text{Cov}(x_n, x_0)\n",
    "\\end{bmatrix}\n",
    "$$\n"
   ]
  },
  {
   "cell_type": "markdown",
   "metadata": {},
   "source": [
    "__Simple Kriging__\n",
    "\n",
    "$$\n",
    "Z^*_{SK}(x_0) = \\sum_{i=0}^{n} \\lambda_i \\cdot z(x_i) + \\lambda_m \\cdot m\n",
    "$$\n",
    "\n",
    "$$with$$\n",
    "\n",
    "$$\n",
    "\\lambda_m = 1 - \\sum_{i=0}^{n} \\lambda_i.\n",
    "$$\n"
   ]
  },
  {
   "cell_type": "code",
   "execution_count": null,
   "metadata": {},
   "outputs": [],
   "source": [
    "# Map range Bangladesh\n",
    "n_range = (north.min(),north.max())\n",
    "e_range = (east.min(),east.max())\n",
    "\n",
    "# Interpolation Coords\n",
    "res = 20_000\n",
    "x_n, x_e = np.mgrid[n_range[0]:n_range[1]:res,e_range[0]:e_range[1]:res]"
   ]
  },
  {
   "cell_type": "code",
   "execution_count": null,
   "metadata": {},
   "outputs": [],
   "source": [
    "x_n.max()"
   ]
  },
  {
   "cell_type": "code",
   "execution_count": null,
   "metadata": {},
   "outputs": [],
   "source": [
    "x_e.max() # Passt"
   ]
  },
  {
   "cell_type": "code",
   "execution_count": null,
   "metadata": {},
   "outputs": [],
   "source": [
    "x_n"
   ]
  },
  {
   "cell_type": "code",
   "execution_count": null,
   "metadata": {},
   "outputs": [],
   "source": [
    "x_p = np.asarray([x_e.flatten(),x_n.flatten()])# points of interpolation"
   ]
  },
  {
   "cell_type": "code",
   "execution_count": null,
   "metadata": {},
   "outputs": [],
   "source": [
    "x_p[:,1].max()"
   ]
  },
  {
   "cell_type": "code",
   "execution_count": null,
   "metadata": {},
   "outputs": [],
   "source": [
    "x_p"
   ]
  },
  {
   "cell_type": "code",
   "execution_count": null,
   "metadata": {},
   "outputs": [],
   "source": [
    "x_p = np.rot90(x_p)\n",
    "x_p"
   ]
  },
  {
   "cell_type": "code",
   "execution_count": null,
   "metadata": {},
   "outputs": [],
   "source": [
    "x_o[:,1].max()"
   ]
  },
  {
   "cell_type": "code",
   "execution_count": null,
   "metadata": {},
   "outputs": [],
   "source": [
    "# Covariance for all Observation Points\n",
    "C = spherical_cov(dists,_,cof_u[1],cof_u[2]) # TODO include local search area to cut computing costs"
   ]
  },
  {
   "cell_type": "code",
   "execution_count": null,
   "metadata": {},
   "outputs": [],
   "source": [
    "plt.imshow(C)\n",
    "plt.colorbar()\n",
    "plt.show()"
   ]
  },
  {
   "cell_type": "code",
   "execution_count": null,
   "metadata": {},
   "outputs": [],
   "source": [
    "x_p.shape"
   ]
  },
  {
   "cell_type": "code",
   "execution_count": null,
   "metadata": {},
   "outputs": [],
   "source": [
    "x_o.shape"
   ]
  },
  {
   "cell_type": "code",
   "execution_count": null,
   "metadata": {},
   "outputs": [],
   "source": [
    "x_p[3,:]"
   ]
  },
  {
   "cell_type": "code",
   "execution_count": null,
   "metadata": {},
   "outputs": [],
   "source": [
    "\n",
    "i = 122\n",
    "dists_p = np.linalg.norm(x_o[:] - x_p[i,:],axis=-1)\n",
    "dists_p.shape"
   ]
  },
  {
   "cell_type": "code",
   "execution_count": null,
   "metadata": {},
   "outputs": [],
   "source": [
    "x_o[:] - x_p[i,:]"
   ]
  },
  {
   "cell_type": "code",
   "execution_count": null,
   "metadata": {},
   "outputs": [],
   "source": [
    "dists_p.min()"
   ]
  },
  {
   "cell_type": "code",
   "execution_count": null,
   "metadata": {},
   "outputs": [],
   "source": [
    "plt.scatter(x_o[:,0],x_o[:,1],s=3)\n",
    "plt.scatter(x_p[:,0],x_p[:,1],s=3)\n",
    "plt.axis(\"equal\")\n",
    "plt.show()"
   ]
  },
  {
   "cell_type": "code",
   "execution_count": null,
   "metadata": {},
   "outputs": [],
   "source": [
    "plt.hist(dists.flatten(),60)\n",
    "plt.show()"
   ]
  },
  {
   "cell_type": "code",
   "execution_count": null,
   "metadata": {},
   "outputs": [],
   "source": [
    "plt.hist(dists_p,60)\n",
    "plt.show()"
   ]
  },
  {
   "cell_type": "code",
   "execution_count": null,
   "metadata": {},
   "outputs": [],
   "source": [
    "dists_p.min()"
   ]
  },
  {
   "cell_type": "code",
   "execution_count": null,
   "metadata": {},
   "outputs": [],
   "source": [
    "c_0 = spherical_cov(dists_p,_,cof_u[1],cof_u[2])\n",
    "c_0"
   ]
  },
  {
   "cell_type": "code",
   "execution_count": null,
   "metadata": {},
   "outputs": [],
   "source": [
    "cof_u[0],cof_u[1],cof_u[2]"
   ]
  },
  {
   "cell_type": "code",
   "execution_count": null,
   "metadata": {},
   "outputs": [],
   "source": [
    "C.dtype"
   ]
  },
  {
   "cell_type": "code",
   "execution_count": null,
   "metadata": {},
   "outputs": [],
   "source": [
    "np.linalg.matrix_rank(C)"
   ]
  },
  {
   "cell_type": "code",
   "execution_count": null,
   "metadata": {},
   "outputs": [],
   "source": [
    "C_iv = np.linalg.inv(C)\n",
    "m = z.mean()"
   ]
  },
  {
   "cell_type": "code",
   "execution_count": null,
   "metadata": {},
   "outputs": [],
   "source": [
    "Z_sk = np.empty(x_p.shape[0])\n",
    "for i in range(x_p.shape[0]):\n",
    "\n",
    "    dists_p = np.linalg.norm(x_o[:] - x_p[i,:],axis=-1)\n",
    "    c_0 = spherical_cov(dists_p,_,cof_u[1],cof_u[2])\n",
    "    \n",
    "    lam = C_iv @ c_0[:, None]\n",
    "    lam_m = 1 - np.sum(lam)\n",
    "    # print(i,lam_m)\n",
    "\n",
    "    Z_sk[i] = np.sum( lam * z + lam_m * m )"
   ]
  },
  {
   "cell_type": "code",
   "execution_count": null,
   "metadata": {},
   "outputs": [],
   "source": [
    "Z_sk.shape"
   ]
  },
  {
   "cell_type": "code",
   "execution_count": null,
   "metadata": {},
   "outputs": [],
   "source": [
    "Z_sk = Z_sk.reshape(x_e.shape)"
   ]
  },
  {
   "cell_type": "code",
   "execution_count": null,
   "metadata": {},
   "outputs": [],
   "source": [
    "# TODO reshape irgendwas pass noch nicht mit der Orientierung von Z_sk"
   ]
  },
  {
   "cell_type": "code",
   "execution_count": null,
   "metadata": {},
   "outputs": [],
   "source": [
    "plt.imshow(Z_sk, vmin=np.nanpercentile(Z_sk, 0), vmax=np.nanpercentile(Z_sk, 90), extent=[e_range[0], e_range[1], n_range[0], n_range[1]])\n",
    "plt.scatter(x_o[:,0],x_o[:,1],c=z,s=2)\n",
    "plt.colorbar()\n",
    "plt.show()\n"
   ]
  }
 ],
 "metadata": {
  "kernelspec": {
   "display_name": "Python 3 (ipykernel)",
   "language": "python",
   "name": "python3"
  },
  "language_info": {
   "codemirror_mode": {
    "name": "ipython",
    "version": 3
   },
   "file_extension": ".py",
   "mimetype": "text/x-python",
   "name": "python",
   "nbconvert_exporter": "python",
   "pygments_lexer": "ipython3",
   "version": "3.12.3"
  }
 },
 "nbformat": 4,
 "nbformat_minor": 4
}
